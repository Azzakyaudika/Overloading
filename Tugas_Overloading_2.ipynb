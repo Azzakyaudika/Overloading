{
  "nbformat": 4,
  "nbformat_minor": 0,
  "metadata": {
    "colab": {
      "provenance": [],
      "include_colab_link": true
    },
    "kernelspec": {
      "name": "python3",
      "display_name": "Python 3"
    },
    "language_info": {
      "name": "python"
    }
  },
  "cells": [
    {
      "cell_type": "markdown",
      "metadata": {
        "id": "view-in-github",
        "colab_type": "text"
      },
      "source": [
        "<a href=\"https://colab.research.google.com/github/Azzakyaudika/Overloading/blob/main/Tugas_Overloading_2.ipynb\" target=\"_parent\"><img src=\"https://colab.research.google.com/assets/colab-badge.svg\" alt=\"Open In Colab\"/></a>"
      ]
    },
    {
      "cell_type": "code",
      "execution_count": 6,
      "metadata": {
        "id": "5zCytCeM1uD4"
      },
      "outputs": [],
      "source": [
        "#class Nama\n",
        "class Nama:\n",
        "  def kalimat(self, namadepan = \"\", namatengah = \"\", namatengah2 = \"\", namaakhir = \"\"):\n",
        "    print(namadepan + namatengah + namatengah2 + namaakhir)\n",
        "#Buat fungsi yang digunakan untuk mengabungkan nama dengan ketentuan nama depan, nama tengah, nama akhir, dan seterusnya dianggap 1 (satu) parameter"
      ]
    },
    {
      "cell_type": "code",
      "source": [
        "#Buat main program\n",
        "coba = Nama()\n",
        "\n",
        "coba.kalimat(\"Muhammad\", \" Azzaky\", \" Audika\", \" Candra\")\n",
        "coba.kalimat(\"Achmad\", \" Ifan\", \" Pratama\")\n",
        "coba.kalimat(\"Harun\", \" Surya\", \" Wibawa\")\n",
        "coba.kalimat(\"Romi\", \" Setiawan\")\n",
        "#Panggil fungsi untuk membuat nama lengkap 4 nama teman kalian"
      ],
      "metadata": {
        "id": "liQBcJWZ12MN",
        "colab": {
          "base_uri": "https://localhost:8080/"
        },
        "outputId": "7b68e60f-8403-47af-89de-3f5f2043534c"
      },
      "execution_count": 7,
      "outputs": [
        {
          "output_type": "stream",
          "name": "stdout",
          "text": [
            "Muhammad Azzaky Audika Candra\n",
            "Achmad Ifan Pratama\n",
            "Harun Surya Wibawa\n",
            "Romi Setiawan\n"
          ]
        }
      ]
    },
    {
      "cell_type": "code",
      "source": [
        "kesimpulan dari konsep overloading bahwa class di atas yang bernama class nama memiliki fungsi overloading yang diamana menggabungkan kata per kata\n",
        "cara bekerjanya adalah fungsi tersebut mempunyai 4 parameter yang bernama (namadepan,namatengah,namatengah2,namaakhir) dan fungsi tersebut bisa menggabungkan parameter dengan parameter lainnya tanpa adanya perulangan\n",
        "\n",
        "contoh:jika parameter tersebut bernama namadepan dan parameter tersebut diisi menjadi \"Muhammad\" dan parameter2 bernama namatengah dan diisi \"Azzaky\" maka output nya menjadi Muhammad Azzaky"
      ],
      "metadata": {
        "id": "xwFmppIG3JGE"
      },
      "execution_count": null,
      "outputs": []
    }
  ]
}